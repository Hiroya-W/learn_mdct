{
 "cells": [
  {
   "cell_type": "markdown",
   "metadata": {},
   "source": [
    "# wavファイルから音を再生"
   ]
  },
  {
   "cell_type": "markdown",
   "metadata": {},
   "source": [
    "https://shizenkarasuzon.hatenablog.com/entry/2018/12/31/145510"
   ]
  },
  {
   "cell_type": "code",
   "execution_count": 2,
   "metadata": {},
   "outputs": [],
   "source": [
    "import numpy as np\n",
    "import wave\n",
    "import pyaudio\n",
    "import matplotlib.pyplot as plt\n",
    "\n",
    "\n",
    "def PlayWavFie(Filename=\"sample.wav\"):\n",
    "    try:\n",
    "        wf = wave.open(Filename, \"r\")\n",
    "    except FileNotFoundError:  # ファイルが存在しなかった場合\n",
    "        print(\"No such file or directory: \" + Filename)\n",
    "        return 0\n",
    "\n",
    "    # ストリームを開く\n",
    "    p = pyaudio.PyAudio()\n",
    "    stream = p.open(\n",
    "        format=p.get_format_from_width(wf.getsampwidth()),\n",
    "        channels=wf.getnchannels(),\n",
    "        rate=wf.getframerate(),\n",
    "        output_device_index=7,\n",
    "        output=True,\n",
    "    )\n",
    "\n",
    "    # 音声を再生\n",
    "#     chunk = 1024\n",
    "    chunk = 512\n",
    "    data = wf.readframes(chunk)\n",
    "    while data != b\"\":\n",
    "        stream.write(data)\n",
    "        data = wf.readframes(chunk)\n",
    "    stream.close()\n",
    "    p.terminate()\n",
    "\n",
    "\n",
    "if __name__ is \"__main__\":\n",
    "    PlayWavFie(\"sample/input2.wav\")"
   ]
  },
  {
   "cell_type": "code",
   "execution_count": null,
   "metadata": {},
   "outputs": [],
   "source": []
  }
 ],
 "metadata": {
  "kernelspec": {
   "display_name": "Python 3",
   "language": "python",
   "name": "python3"
  },
  "language_info": {
   "codemirror_mode": {
    "name": "ipython",
    "version": 3
   },
   "file_extension": ".py",
   "mimetype": "text/x-python",
   "name": "python",
   "nbconvert_exporter": "python",
   "pygments_lexer": "ipython3",
   "version": "3.6.8"
  }
 },
 "nbformat": 4,
 "nbformat_minor": 4
}
