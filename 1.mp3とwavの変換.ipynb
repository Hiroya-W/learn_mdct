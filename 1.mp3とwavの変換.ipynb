{
 "cells": [
  {
   "cell_type": "markdown",
   "metadata": {},
   "source": [
    "# mp3 to wav"
   ]
  },
  {
   "cell_type": "code",
   "execution_count": 1,
   "metadata": {},
   "outputs": [
    {
     "data": {
      "text/plain": [
       "<_io.BufferedRandom name='output/output.wav'>"
      ]
     },
     "execution_count": 1,
     "metadata": {},
     "output_type": "execute_result"
    }
   ],
   "source": [
    "import pydub\n",
    "\n",
    "sound = pydub.AudioSegment.from_mp3(\"sample/input.mp3\")\n",
    "sound.export(\"output/output.wav\",format=\"wav\")"
   ]
  },
  {
   "cell_type": "markdown",
   "metadata": {},
   "source": [
    "# wav to mp3"
   ]
  },
  {
   "cell_type": "code",
   "execution_count": 2,
   "metadata": {},
   "outputs": [
    {
     "data": {
      "text/plain": [
       "<_io.BufferedRandom name='output/output.mp3'>"
      ]
     },
     "execution_count": 2,
     "metadata": {},
     "output_type": "execute_result"
    }
   ],
   "source": [
    "import pydub\n",
    "\n",
    "sound = pydub.AudioSegment.from_wav(\"sample/input.wav\")\n",
    "sound.export(\"output/output.mp3\",format=\"mp3\")"
   ]
  },
  {
   "cell_type": "markdown",
   "metadata": {},
   "source": [
    "# n回mp3 to wav, wav to mp3を繰り返す"
   ]
  },
  {
   "cell_type": "code",
   "execution_count": 2,
   "metadata": {},
   "outputs": [],
   "source": [
    "import pydub\n",
    "n = 5\n",
    "\n",
    "sound = pydub.AudioSegment.from_wav(\"sample/input.wav\")\n",
    "\n",
    "for i in range(n):\n",
    "    sound.export(\"output/loop_mp3_to_wav.mp3\",format=\"mp3\")\n",
    "    \n",
    "    sound = pydub.AudioSegment.from_mp3(\"output/loop_mp3_to_wav.mp3\")\n",
    "    sound.export(\"output/loop_mp3_to_wav.wav\",format=\"wav\")\n",
    "    \n",
    "    sound = pydub.AudioSegment.from_wav(\"output/loop_mp3_to_wav.wav\")"
   ]
  },
  {
   "cell_type": "markdown",
   "metadata": {},
   "source": [
    "mp3とwavの変換を繰り返したとて、ファイルサイズに変化はありませんでした  \n",
    "同じサンプリング間隔で処理を繰り返すだけなので、そりゃそうですね"
   ]
  },
  {
   "cell_type": "code",
   "execution_count": null,
   "metadata": {},
   "outputs": [],
   "source": []
  }
 ],
 "metadata": {
  "kernelspec": {
   "display_name": "Python 3",
   "language": "python",
   "name": "python3"
  },
  "language_info": {
   "codemirror_mode": {
    "name": "ipython",
    "version": 3
   },
   "file_extension": ".py",
   "mimetype": "text/x-python",
   "name": "python",
   "nbconvert_exporter": "python",
   "pygments_lexer": "ipython3",
   "version": "3.6.8"
  }
 },
 "nbformat": 4,
 "nbformat_minor": 4
}
