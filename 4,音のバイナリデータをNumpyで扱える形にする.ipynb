{
 "cells": [
  {
   "cell_type": "markdown",
   "metadata": {},
   "source": [
    "# dctでmp3っぽいこと"
   ]
  },
  {
   "cell_type": "code",
   "execution_count": 19,
   "metadata": {},
   "outputs": [],
   "source": [
    "import numpy as np\n",
    "import wave\n",
    "import pyaudio\n",
    "import matplotlib.pyplot as plt\n",
    "import struct"
   ]
  },
  {
   "cell_type": "markdown",
   "metadata": {},
   "source": [
    "# ファイル読み込み"
   ]
  },
  {
   "cell_type": "code",
   "execution_count": 7,
   "metadata": {},
   "outputs": [],
   "source": [
    "def load_wav_file(Filename):\n",
    "    try:\n",
    "        wf = wave.open(Filename, \"r\")\n",
    "    except FileNotFoundError:  # ファイルが存在しなかった場合\n",
    "        print(\"No such file or directory: \" + Filename)\n",
    "        return 0\n",
    "\n",
    "    return wf"
   ]
  },
  {
   "cell_type": "code",
   "execution_count": 8,
   "metadata": {},
   "outputs": [],
   "source": [
    "wf = load_wav_file(\"sample/input2.wav\")"
   ]
  },
  {
   "cell_type": "markdown",
   "metadata": {},
   "source": [
    "https://qiita.com/Dsuke-K/items/2ad4945a81644db1e9ff"
   ]
  },
  {
   "cell_type": "code",
   "execution_count": 37,
   "metadata": {},
   "outputs": [
    {
     "name": "stdout",
     "output_type": "stream",
     "text": [
      "Channel num :  2\n",
      "Sample width :  2\n",
      "Sampling rate :  44100\n",
      "Frame num :  1334218\n"
     ]
    }
   ],
   "source": [
    "# wavファイルの情報を取得\n",
    "# チャネル数：monoなら1, stereoなら2, 5.1chなら6(たぶん)\n",
    "nchannles = wf.getnchannels()\n",
    "\n",
    "# 音声データ1サンプルあたりのバイト数。2なら2bytes(16bit), 3なら24bitなど\n",
    "samplewidth = wf.getsampwidth()\n",
    "\n",
    "# サンプリング周波数。普通のCDなら44.1k\n",
    "framerate = wf.getframerate()\n",
    "\n",
    "# 音声のデータ点の数\n",
    "nframes = wf.getnframes()\n",
    "\n",
    "print(\"Channel num : \", nchannles)\n",
    "print(\"Sample width : \", samplewidth)\n",
    "print(\"Sampling rate : \", framerate)\n",
    "print(\"Frame num : \", nframes)"
   ]
  },
  {
   "cell_type": "markdown",
   "metadata": {},
   "source": [
    "# バイナリを読み込み、Numpyで使える形に"
   ]
  },
  {
   "cell_type": "code",
   "execution_count": 35,
   "metadata": {},
   "outputs": [],
   "source": [
    "buf = wf.readframes(1024)"
   ]
  },
  {
   "cell_type": "code",
   "execution_count": 38,
   "metadata": {},
   "outputs": [],
   "source": [
    "if samplewidth == 2:\n",
    "    data = np.frombuffer(buf, dtype='int16')\n",
    "elif samplewidth == 4:\n",
    "    data = np.frombuffer(buf, dtype='int32')"
   ]
  },
  {
   "cell_type": "markdown",
   "metadata": {},
   "source": [
    "チャンネルの分割"
   ]
  },
  {
   "cell_type": "code",
   "execution_count": 39,
   "metadata": {},
   "outputs": [],
   "source": [
    "if nchannles == 2:\n",
    "    l_channel = data[::nchannles]\n",
    "    r_channel = data[1::nchannles]"
   ]
  },
  {
   "cell_type": "code",
   "execution_count": 40,
   "metadata": {},
   "outputs": [
    {
     "data": {
      "text/plain": [
       "array([-3,  2, -1, ...,  1, -1,  0], dtype=int16)"
      ]
     },
     "execution_count": 40,
     "metadata": {},
     "output_type": "execute_result"
    }
   ],
   "source": [
    "l_channel"
   ]
  },
  {
   "cell_type": "code",
   "execution_count": null,
   "metadata": {},
   "outputs": [],
   "source": []
  }
 ],
 "metadata": {
  "kernelspec": {
   "display_name": "Python 3",
   "language": "python",
   "name": "python3"
  },
  "language_info": {
   "codemirror_mode": {
    "name": "ipython",
    "version": 3
   },
   "file_extension": ".py",
   "mimetype": "text/x-python",
   "name": "python",
   "nbconvert_exporter": "python",
   "pygments_lexer": "ipython3",
   "version": "3.6.8"
  }
 },
 "nbformat": 4,
 "nbformat_minor": 4
}
