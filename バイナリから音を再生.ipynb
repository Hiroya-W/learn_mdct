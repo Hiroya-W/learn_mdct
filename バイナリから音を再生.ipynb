{
 "cells": [
  {
   "cell_type": "markdown",
   "metadata": {},
   "source": [
    "# デバイス一覧を表示"
   ]
  },
  {
   "cell_type": "markdown",
   "metadata": {},
   "source": [
    "https://codeday.me/jp/qa/20190429/731178.html"
   ]
  },
  {
   "cell_type": "code",
   "execution_count": 1,
   "metadata": {},
   "outputs": [
    {
     "name": "stdout",
     "output_type": "stream",
     "text": [
      "{'defaultHighInputLatency': -1.0,\n",
      " 'defaultHighOutputLatency': 0.034829931972789115,\n",
      " 'defaultLowInputLatency': -1.0,\n",
      " 'defaultLowOutputLatency': 0.005804988662131519,\n",
      " 'defaultSampleRate': 44100.0,\n",
      " 'hostApi': 0,\n",
      " 'index': 0,\n",
      " 'maxInputChannels': 0,\n",
      " 'maxOutputChannels': 8,\n",
      " 'name': 'HDA Intel HDMI: 0 (hw:0,3)',\n",
      " 'structVersion': 2}\n",
      "{'defaultHighInputLatency': -1.0,\n",
      " 'defaultHighOutputLatency': 0.034829931972789115,\n",
      " 'defaultLowInputLatency': -1.0,\n",
      " 'defaultLowOutputLatency': 0.005804988662131519,\n",
      " 'defaultSampleRate': 44100.0,\n",
      " 'hostApi': 0,\n",
      " 'index': 1,\n",
      " 'maxInputChannels': 0,\n",
      " 'maxOutputChannels': 8,\n",
      " 'name': 'HDA Intel HDMI: 1 (hw:0,7)',\n",
      " 'structVersion': 2}\n",
      "{'defaultHighInputLatency': -1.0,\n",
      " 'defaultHighOutputLatency': 0.034829931972789115,\n",
      " 'defaultLowInputLatency': -1.0,\n",
      " 'defaultLowOutputLatency': 0.005804988662131519,\n",
      " 'defaultSampleRate': 44100.0,\n",
      " 'hostApi': 0,\n",
      " 'index': 2,\n",
      " 'maxInputChannels': 0,\n",
      " 'maxOutputChannels': 8,\n",
      " 'name': 'HDA Intel HDMI: 2 (hw:0,8)',\n",
      " 'structVersion': 2}\n",
      "{'defaultHighInputLatency': -1.0,\n",
      " 'defaultHighOutputLatency': 0.034829931972789115,\n",
      " 'defaultLowInputLatency': -1.0,\n",
      " 'defaultLowOutputLatency': 0.005804988662131519,\n",
      " 'defaultSampleRate': 44100.0,\n",
      " 'hostApi': 0,\n",
      " 'index': 3,\n",
      " 'maxInputChannels': 0,\n",
      " 'maxOutputChannels': 8,\n",
      " 'name': 'HDA Intel HDMI: 3 (hw:0,9)',\n",
      " 'structVersion': 2}\n",
      "{'defaultHighInputLatency': -1.0,\n",
      " 'defaultHighOutputLatency': 0.034829931972789115,\n",
      " 'defaultLowInputLatency': -1.0,\n",
      " 'defaultLowOutputLatency': 0.005804988662131519,\n",
      " 'defaultSampleRate': 44100.0,\n",
      " 'hostApi': 0,\n",
      " 'index': 4,\n",
      " 'maxInputChannels': 0,\n",
      " 'maxOutputChannels': 8,\n",
      " 'name': 'HDA Intel HDMI: 4 (hw:0,10)',\n",
      " 'structVersion': 2}\n",
      "{'defaultHighInputLatency': 0.034829931972789115,\n",
      " 'defaultHighOutputLatency': 0.034829931972789115,\n",
      " 'defaultLowInputLatency': 0.005804988662131519,\n",
      " 'defaultLowOutputLatency': 0.005804988662131519,\n",
      " 'defaultSampleRate': 44100.0,\n",
      " 'hostApi': 0,\n",
      " 'index': 5,\n",
      " 'maxInputChannels': 2,\n",
      " 'maxOutputChannels': 2,\n",
      " 'name': 'HDA Intel PCH: CX20751/2 Analog (hw:1,0)',\n",
      " 'structVersion': 2}\n",
      "{'defaultHighInputLatency': -1.0,\n",
      " 'defaultHighOutputLatency': 0.034829931972789115,\n",
      " 'defaultLowInputLatency': -1.0,\n",
      " 'defaultLowOutputLatency': 0.005804988662131519,\n",
      " 'defaultSampleRate': 44100.0,\n",
      " 'hostApi': 0,\n",
      " 'index': 6,\n",
      " 'maxInputChannels': 0,\n",
      " 'maxOutputChannels': 8,\n",
      " 'name': 'hdmi',\n",
      " 'structVersion': 2}\n",
      "{'defaultHighInputLatency': 0.034807256235827665,\n",
      " 'defaultHighOutputLatency': 0.034807256235827665,\n",
      " 'defaultLowInputLatency': 0.008684807256235827,\n",
      " 'defaultLowOutputLatency': 0.008684807256235827,\n",
      " 'defaultSampleRate': 44100.0,\n",
      " 'hostApi': 0,\n",
      " 'index': 7,\n",
      " 'maxInputChannels': 32,\n",
      " 'maxOutputChannels': 32,\n",
      " 'name': 'pulse',\n",
      " 'structVersion': 2}\n",
      "Chosen index:  7\n"
     ]
    }
   ],
   "source": [
    "import pyaudio\n",
    "import pprint\n",
    "\n",
    "pa = pyaudio.PyAudio()\n",
    "chosen_device_index = -1\n",
    "for x in range(0, pa.get_device_count()):\n",
    "    info = pa.get_device_info_by_index(x)\n",
    "    pprint.pprint(pa.get_device_info_by_index(x))\n",
    "    if info[\"name\"] == \"pulse\":\n",
    "        chosen_device_index = info[\"index\"]\n",
    "        print(\"Chosen index: \", chosen_device_index)"
   ]
  },
  {
   "cell_type": "markdown",
   "metadata": {},
   "source": [
    "\"pulse\"と名前のついたデバイスを選択する "
   ]
  },
  {
   "cell_type": "markdown",
   "metadata": {},
   "source": [
    "# 正弦波の再生"
   ]
  },
  {
   "cell_type": "markdown",
   "metadata": {},
   "source": [
    "http://aidiary.hatenablog.com/entry/20110607/1307449007"
   ]
  },
  {
   "cell_type": "code",
   "execution_count": 18,
   "metadata": {},
   "outputs": [],
   "source": [
    "import wave\n",
    "import struct\n",
    "import numpy as np\n",
    "from pylab import *\n",
    "\n",
    "\n",
    "def createSineWave(A, f0, fs, length):\n",
    "    \"\"\"振幅A、基本周波数f0、サンプリング周波数 fs、\n",
    "    長さlength秒の正弦波を作成して返す\"\"\"\n",
    "    data = []\n",
    "    # [-1.0, 1.0]の小数値が入った波を作成\n",
    "    for n in arange(length * fs):  # nはサンプルインデックス\n",
    "        s = A * np.sin(2 * np.pi * f0 * n / fs)\n",
    "        # 振幅が大きい時はクリッピング\n",
    "        if s > 1.0:\n",
    "            s = 1.0\n",
    "        if s < -1.0:\n",
    "            s = -1.0\n",
    "        data.append(s)\n",
    "    # [-32768, 32767]の整数値に変換\n",
    "    data = [int(x * 32767.0) for x in data]\n",
    "    #    plot(data[0:100]); show()\n",
    "    # バイナリに変換\n",
    "    data = struct.pack(\"h\" * len(data), *data)  # listに*をつけると引数展開される\n",
    "    return data\n",
    "\n",
    "\n",
    "def play(data, fs, bit):\n",
    "    import pyaudio\n",
    "    # ストリームを開く\n",
    "    p = pyaudio.PyAudio()\n",
    "    stream = p.open(\n",
    "        format=pyaudio.paInt16,\n",
    "        channels=1,\n",
    "        output_device_index=chosen_device_index,\n",
    "        rate=int(fs),\n",
    "        output=True,\n",
    "    )\n",
    "    # チャンク単位でストリームに出力し音声を再生\n",
    "    chunk = 1024\n",
    "    sp = 0  # 再生位置ポインタ\n",
    "    buffer = data[sp : sp + chunk]\n",
    "    while buffer != b\"\":\n",
    "        stream.write(buffer)\n",
    "        sp = sp + chunk\n",
    "        buffer = data[sp : sp + chunk]\n",
    "    stream.close()\n",
    "    p.terminate()\n",
    "\n",
    "\n",
    "if __name__ == \"__main__\":\n",
    "    freqList = [262, 294, 330, 349, 392, 440, 494, 523]  # ドレミファソラシド\n",
    "    for f in freqList:\n",
    "        data = createSineWave(1.0, f, 8000.0, 1.0)\n",
    "        play(data, 8000, 16)"
   ]
  },
  {
   "cell_type": "code",
   "execution_count": null,
   "metadata": {},
   "outputs": [],
   "source": []
  }
 ],
 "metadata": {
  "kernelspec": {
   "display_name": "Python 3",
   "language": "python",
   "name": "python3"
  },
  "language_info": {
   "codemirror_mode": {
    "name": "ipython",
    "version": 3
   },
   "file_extension": ".py",
   "mimetype": "text/x-python",
   "name": "python",
   "nbconvert_exporter": "python",
   "pygments_lexer": "ipython3",
   "version": "3.6.8"
  }
 },
 "nbformat": 4,
 "nbformat_minor": 4
}
